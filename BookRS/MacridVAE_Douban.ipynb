{
 "cells": [
  {
   "cell_type": "code",
   "execution_count": 1,
   "metadata": {},
   "outputs": [],
   "source": [
    "import os\n",
    "import sys\n",
    "import time\n",
    "import numpy as np\n",
    "import pandas as pd\n",
    "from scipy import sparse\n",
    "import torch\n",
    "import torch.nn as nn\n",
    "import torch.optim as optim\n",
    "import torch.nn.init as init\n",
    "import torch.nn.functional as F\n",
    "from torch.nn.parameter import Parameter\n",
    "from matplotlib import pyplot as plt "
   ]
  },
  {
   "cell_type": "markdown",
   "metadata": {},
   "source": [
    "## Model"
   ]
  },
  {
   "cell_type": "code",
   "execution_count": 2,
   "metadata": {},
   "outputs": [],
   "source": [
    "def recon_loss(inputs, logits):\n",
    "    return torch.mean(torch.sum(-logits * inputs, dim=1))\n",
    "\n",
    "def kl_loss(mu, logvar):\n",
    "    return torch.mean(0.5 * torch.sum(\n",
    "        torch.exp(logvar) + mu ** 2 - 1 - logvar, dim=1))"
   ]
  },
  {
   "cell_type": "code",
   "execution_count": 3,
   "metadata": {},
   "outputs": [],
   "source": [
    "class DisenVAE(nn.Module):\n",
    "    def __init__(self, M, K, D, tau, dropout):\n",
    "        super(DisenVAE, self).__init__()\n",
    "\n",
    "        self.M = M\n",
    "        self.H = D * 3\n",
    "        self.D = D\n",
    "        self.K = K\n",
    "        self.tau = tau\n",
    "\n",
    "        self.encoder = nn.Sequential(\n",
    "            nn.Linear(self.M, self.H),\n",
    "            nn.Tanh(),\n",
    "            nn.Linear(self.H, self.D * 2)\n",
    "        )\n",
    "        self.items = Parameter(torch.Tensor(self.M, self.D))\n",
    "        self.cores = Parameter(torch.Tensor(self.K, self.D))\n",
    "        self.drop = nn.Dropout(dropout)\n",
    "\n",
    "        init.xavier_normal_(self.items)\n",
    "        init.xavier_normal_(self.cores)\n",
    "\n",
    "\n",
    "    def cluster(self):\n",
    "        items = F.normalize(self.items, dim=1)      # M * D\n",
    "        cores = F.normalize(self.cores, dim=1)      # K * D\n",
    "        cates = torch.mm(items, cores.t()) / self.tau\n",
    "        cates = F.softmax(cates, dim=1)             # M * K\n",
    "        return items, cores, cates\n",
    "\n",
    "\n",
    "    def encode(self, X, cates):\n",
    "        n = X.shape[0]\n",
    "        X = self.drop(X)\n",
    "        X = X.view(n, 1, self.M) *  \\\n",
    "            cates.t().expand(n, self.K, self.M)     # n * K * M\n",
    "        X = X.reshape(n * self.K, self.M)           # (n * K) * M\n",
    "        h = self.encoder(X)                         # (n * K) * D * 2\n",
    "        mu, logvar = h[:, :self.D], h[:, self.D:]   # (n * k) * D\n",
    "        return mu, logvar\n",
    "\n",
    "\n",
    "    def decode(self, z, items, cates):\n",
    "        n = z.shape[0] // self.K\n",
    "        z = F.normalize(z, dim=1)                   # (n * K) * D\n",
    "        logits = torch.mm(z, items.t()) / self.tau  # (n * K) * M\n",
    "        probs = torch.exp(logits)                   # (n * K) * M\n",
    "        probs = torch.sum(probs.view(n, self.K, self.M) * \\\n",
    "                cates.t().expand(n, self.K, self.M), dim=1)\n",
    "        logits = torch.log(probs)\n",
    "        logits = F.log_softmax(logits, dim=1)\n",
    "        return logits\n",
    "\n",
    "\n",
    "    def sample(self, mu, logvar):\n",
    "        if self.training:\n",
    "            std = torch.exp(0.5 * logvar)\n",
    "            eps = torch.randn_like(std)\n",
    "            return mu + std * eps\n",
    "        else:\n",
    "            return mu\n",
    "\n",
    "\n",
    "    def forward(self, X, A):\n",
    "        items, cores, cates = self.cluster()\n",
    "        mu, logvar = self.encode(X, cates)\n",
    "        z = self.sample(mu, logvar)\n",
    "        logits = self.decode(z, items, cates)\n",
    "        return logits, mu, logvar, None, None, None\n",
    "    \n",
    "\n",
    "    def loss_fn(self, X, X_logits, X_mu, X_logvar,\n",
    "                A, A_logits, A_mu, A_logvar, anneal):\n",
    "        return recon_loss(X, X_logits) + anneal * kl_loss(X_mu, X_logvar)"
   ]
  },
  {
   "cell_type": "markdown",
   "metadata": {},
   "source": [
    "## Metric"
   ]
  },
  {
   "cell_type": "markdown",
   "metadata": {},
   "source": [
    "Evaluate function: Normalized discounted cumulative gain (NDCG@k)  Recall@k and Precision@k"
   ]
  },
  {
   "cell_type": "code",
   "execution_count": 4,
   "metadata": {},
   "outputs": [],
   "source": [
    "def ndcg_kth(outputs, labels, k=100):\n",
    "    _, preds = torch.topk(outputs, k)               # sorted top k index of outputs\n",
    "    _, facts = torch.topk(labels, k)                # min(k, labels.nnz(dim=1))\n",
    "    rows = torch.arange(labels.shape[0]).view(-1, 1)\n",
    "\n",
    "    tp = 1.0 / torch.log2(torch.arange(2, k + 2).float())\n",
    "    dcg = torch.sum(tp * labels[rows, preds], dim=1)\n",
    "    idcg = torch.sum(tp * labels[rows, facts], dim=1)\n",
    "    ndcg = dcg / idcg\n",
    "    ndcg[torch.isnan(ndcg)] = 0\n",
    "    return ndcg\n",
    "\n",
    "\n",
    "def recall_kth(outputs, labels, k=50):\n",
    "    _, preds = torch.topk(outputs, k, sorted=False) # top k index\n",
    "    rows = torch.arange(labels.shape[0]).view(-1, 1)\n",
    "\n",
    "    recall = torch.sum(labels[rows, preds], dim=1) \\\n",
    "           / torch.min(torch.Tensor([k]), torch.sum(labels, dim=1))\n",
    "    recall[torch.isnan(recall)] = 0\n",
    "    return recall\n",
    "\n",
    "def precision_kth(outputs, labels, k=50):\n",
    "    \"\"\"\n",
    "    Compute Precision@k: the proportion of positive class predictions in the top-k predictions\n",
    "    that are correct.\n",
    "    \n",
    "    Args:\n",
    "    - outputs (torch.Tensor): The model outputs (scores or probabilities) for each class.\n",
    "    - labels (torch.Tensor): The ground truth labels (binary) for each sample.\n",
    "    - k (int): The number of top predictions to consider for computing precision.\n",
    "    \n",
    "    Returns:\n",
    "    - torch.Tensor: Precision@k for each sample in the batch.\n",
    "    \"\"\"\n",
    "    # Get the index of the top k highest scoring predictions\n",
    "    _, preds = torch.topk(outputs, k, sorted=False)  # top k index\n",
    "    \n",
    "    # Generate a row index for each sample\n",
    "    rows = torch.arange(labels.shape[0]).view(-1, 1)\n",
    "\n",
    "    # Compute Precision@k\n",
    "    # Get the actual labels by indexing and calculate the number of correct predictions for each sample\n",
    "    correct_preds = torch.sum(labels[rows, preds], dim=1)\n",
    "    precision = correct_preds / k\n",
    "    precision[torch.isnan(precision)] = 0\n",
    "    \n",
    "    return precision\n"
   ]
  },
  {
   "cell_type": "markdown",
   "metadata": {},
   "source": [
    "## Training/validation data, hyperparameters"
   ]
  },
  {
   "cell_type": "markdown",
   "metadata": {},
   "source": [
    "Load the pre-processed training and validation data"
   ]
  },
  {
   "cell_type": "code",
   "execution_count": 5,
   "metadata": {},
   "outputs": [],
   "source": [
    "processed_dataset = r'C:\\Users\\FOMO\\Desktop\\Proj\\Dataset\\Douban\\processed_data'"
   ]
  },
  {
   "cell_type": "code",
   "execution_count": 6,
   "metadata": {},
   "outputs": [],
   "source": [
    "unique_sid = list()\n",
    "with open(os.path.join(processed_dataset, 'unique_sid.txt'), 'r') as f:\n",
    "    for line in f:\n",
    "        unique_sid.append(line.strip())\n",
    "n_items = len(unique_sid)"
   ]
  },
  {
   "cell_type": "code",
   "execution_count": 7,
   "metadata": {},
   "outputs": [],
   "source": [
    "unique_uid = list()\n",
    "with open(os.path.join(processed_dataset, 'unique_uid.txt'), 'r') as f:\n",
    "    for line in f:\n",
    "        unique_uid.append(line.strip())\n",
    "n_users = len(unique_uid)"
   ]
  },
  {
   "cell_type": "code",
   "execution_count": 8,
   "metadata": {},
   "outputs": [],
   "source": [
    "def load_train_data(csv_file, n_items):\n",
    "    tp = pd.read_csv(csv_file)\n",
    "    users = tp['uid'].max() + 1\n",
    "\n",
    "    rows, cols = tp['uid'], tp['sid']\n",
    "    data = sparse.csr_matrix((np.ones_like(rows),\n",
    "                              (rows, cols)), dtype='float64',\n",
    "                             shape=(users, n_items))\n",
    "    return data"
   ]
  },
  {
   "cell_type": "code",
   "execution_count": 9,
   "metadata": {},
   "outputs": [],
   "source": [
    "train_data = load_train_data(os.path.join(processed_dataset, 'train.csv'), n_items)"
   ]
  },
  {
   "cell_type": "code",
   "execution_count": 10,
   "metadata": {},
   "outputs": [],
   "source": [
    "def load_tr_te_data(csv_file_tr, csv_file_te, n_items):\n",
    "    tp_tr = pd.read_csv(csv_file_tr)\n",
    "    tp_te = pd.read_csv(csv_file_te)\n",
    "\n",
    "    start_idx = min(tp_tr['uid'].min(), tp_te['uid'].min())\n",
    "    end_idx = max(tp_tr['uid'].max(), tp_te['uid'].max())\n",
    "\n",
    "    rows_tr, cols_tr = tp_tr['uid'] - start_idx, tp_tr['sid']\n",
    "    rows_te, cols_te = tp_te['uid'] - start_idx, tp_te['sid']\n",
    "\n",
    "    data_tr = sparse.csr_matrix((np.ones_like(rows_tr),\n",
    "                                 (rows_tr, cols_tr)), dtype='float64',\n",
    "                                shape=(end_idx - start_idx + 1, n_items))\n",
    "    data_te = sparse.csr_matrix((np.ones_like(rows_te),\n",
    "                                 (rows_te, cols_te)), dtype='float64',\n",
    "                                shape=(end_idx - start_idx + 1, n_items))\n",
    "    return data_tr, data_te"
   ]
  },
  {
   "cell_type": "code",
   "execution_count": 11,
   "metadata": {},
   "outputs": [],
   "source": [
    "vad_data_tr, vad_data_te = load_tr_te_data(\n",
    "        os.path.join(processed_dataset, 'validation_tr.csv'),\n",
    "        os.path.join(processed_dataset, 'validation_te.csv'),\n",
    "        n_items)"
   ]
  },
  {
   "cell_type": "code",
   "execution_count": 12,
   "metadata": {},
   "outputs": [],
   "source": [
    "tst_data_tr, tst_data_te = load_tr_te_data(\n",
    "        os.path.join(processed_dataset, 'test_tr.csv'),\n",
    "        os.path.join(processed_dataset, 'test_te.csv'),\n",
    "        n_items)"
   ]
  },
  {
   "cell_type": "code",
   "execution_count": 13,
   "metadata": {},
   "outputs": [],
   "source": [
    "assert n_items == train_data.shape[1]\n",
    "assert n_items == vad_data_tr.shape[1]\n",
    "assert n_items == vad_data_te.shape[1]\n",
    "assert n_items == tst_data_tr.shape[1]\n",
    "assert n_items == tst_data_te.shape[1]"
   ]
  },
  {
   "cell_type": "markdown",
   "metadata": {},
   "source": [
    "Set up training hyperparameters"
   ]
  },
  {
   "cell_type": "code",
   "execution_count": 14,
   "metadata": {},
   "outputs": [],
   "source": [
    "lr = 1e-3\n",
    "weight_decay = 1e-4 # weight decay coefficient\n",
    "dropout = 0.5\n",
    "beta = 0.5\n",
    "kfac = 7\n",
    "dfac = 200\n",
    "tau = 0.1\n",
    "batch_size = 300\n",
    "epochs = 50\n",
    "total_anneal_steps = 150000 # the total number of gradient updates for annealing\n",
    "anneal_cap = 0.2 \n",
    "seed = 98765 # random seed\n",
    "log_interval = 100\n",
    "save = r'C:\\Users\\FOMO\\Desktop\\Proj\\BookRS\\Save_MacridVAE\\Douban\\model.pt' # path to save the final model"
   ]
  },
  {
   "cell_type": "markdown",
   "metadata": {},
   "source": [
    "## Build the model"
   ]
  },
  {
   "cell_type": "code",
   "execution_count": 15,
   "metadata": {},
   "outputs": [],
   "source": [
    "torch.manual_seed(seed) # Set the random seed manually for reproductibility.\n",
    "device = torch.device(\"cuda:0\")"
   ]
  },
  {
   "cell_type": "code",
   "execution_count": 16,
   "metadata": {},
   "outputs": [],
   "source": [
    "def load_net(model, N, M, K, D, tau, dropout):\n",
    "    if model == 'DisenVAE':\n",
    "        return DisenVAE(M, K, D, tau, dropout)"
   ]
  },
  {
   "cell_type": "code",
   "execution_count": 17,
   "metadata": {},
   "outputs": [
    {
     "data": {
      "text/plain": [
       "DisenVAE(\n",
       "  (encoder): Sequential(\n",
       "    (0): Linear(in_features=33591, out_features=600, bias=True)\n",
       "    (1): Tanh()\n",
       "    (2): Linear(in_features=600, out_features=400, bias=True)\n",
       "  )\n",
       "  (drop): Dropout(p=0.5, inplace=False)\n",
       ")"
      ]
     },
     "execution_count": 17,
     "metadata": {},
     "output_type": "execute_result"
    }
   ],
   "source": [
    "net = load_net('DisenVAE', n_users, n_items, kfac, dfac, \n",
    "               tau, dropout)\n",
    "net.to(device)"
   ]
  },
  {
   "cell_type": "code",
   "execution_count": 18,
   "metadata": {},
   "outputs": [],
   "source": [
    "optimizer = optim.Adam(net.parameters(), lr=lr, weight_decay=weight_decay)\n",
    "criterion = net.loss_fn"
   ]
  },
  {
   "cell_type": "markdown",
   "metadata": {},
   "source": [
    "### Train a MacridVAE"
   ]
  },
  {
   "cell_type": "code",
   "execution_count": 19,
   "metadata": {},
   "outputs": [],
   "source": [
    "ndcg100_values = []\n",
    "\n",
    "empty_data = sparse.csr_matrix(train_data.shape, dtype=float)\n",
    "tr_data = sparse.vstack([train_data, vad_data_tr, tst_data_tr])\n",
    "te_data = sparse.vstack([empty_data, vad_data_te, tst_data_te])\n",
    "\n",
    "n_train = train_data.shape[0]\n",
    "n_valid = vad_data_tr.shape[0]\n",
    "n_test  = tst_data_tr.shape[0]\n",
    "train_idx = range(n_train)\n",
    "valid_idx = range(n_train, n_train + n_valid)\n",
    "test_idx  = range(n_train + n_valid, n_train + n_valid + n_test)\n",
    "\n",
    "n_batches = int(np.ceil(n_train / batch_size))\n",
    "update = 0\n",
    "anneals = 500 * n_batches\n",
    "best_n100 = 0.0"
   ]
  },
  {
   "cell_type": "code",
   "execution_count": 20,
   "metadata": {},
   "outputs": [],
   "source": [
    "def evaluate(net, idx):\n",
    "    net.eval()\n",
    "    n_test = len(idx)\n",
    "    metrics = {'ndcg': {}, 'recall': {}, 'precision': {}}\n",
    "    ks = [5, 10, 20, 50, 100]\n",
    "\n",
    "    # Initialising the metrics store\n",
    "    for k in ks:\n",
    "        metrics['ndcg'][k] = []\n",
    "        metrics['recall'][k] = []\n",
    "        metrics['precision'][k] = []\n",
    "\n",
    "    with torch.no_grad():\n",
    "        for start_idx in range(0, n_test, batch_size):\n",
    "            end_idx = min(start_idx + batch_size, n_test)\n",
    "            X_tr = tr_data[idx[start_idx: end_idx]]\n",
    "            X_te = te_data[idx[start_idx: end_idx]]\n",
    "            X_tr = torch.Tensor(X_tr.toarray()).to(device)\n",
    "            X_te = torch.Tensor(X_te.toarray())\n",
    "            A = None\n",
    "            X_tr_logits, _, _, _, _, _ = net(X_tr, A)\n",
    "\n",
    "            X_tr_logits[torch.nonzero(X_tr, as_tuple=True)] = float('-inf')\n",
    "            X_tr_logits = X_tr_logits.cpu()\n",
    "\n",
    "            # Calculation of indicators\n",
    "            for k in ks:\n",
    "                metrics['ndcg'][k].append(ndcg_kth(X_tr_logits, X_te, k=k))\n",
    "                metrics['recall'][k].append(recall_kth(X_tr_logits, X_te, k=k))\n",
    "                metrics['precision'][k].append(precision_kth(X_tr_logits, X_te, k=k))\n",
    "\n",
    "    # Converting a list of indicators to an average\n",
    "    for metric in metrics:\n",
    "        for k in ks:\n",
    "            metrics[metric][k] = torch.mean(torch.cat(metrics[metric][k])).item()\n",
    "\n",
    "    return metrics"
   ]
  },
  {
   "cell_type": "code",
   "execution_count": 21,
   "metadata": {},
   "outputs": [
    {
     "name": "stdout",
     "output_type": "stream",
     "text": [
      "[  0] loss: 317.429\t-----------------------------------------------------------------------------------------\n",
      "| end of epoch   0 | time: 22.78s | ndcg@100 0.028 | recall@20 0.023 | recall@50 0.037\n",
      "-----------------------------------------------------------------------------------------\n",
      "[  1] loss: 285.111\t-----------------------------------------------------------------------------------------\n",
      "| end of epoch   1 | time: 21.45s | ndcg@100 0.125 | recall@20 0.113 | recall@50 0.160\n",
      "-----------------------------------------------------------------------------------------\n",
      "[  2] loss: 242.708\t-----------------------------------------------------------------------------------------\n",
      "| end of epoch   2 | time: 21.45s | ndcg@100 0.183 | recall@20 0.167 | recall@50 0.229\n",
      "-----------------------------------------------------------------------------------------\n",
      "[  3] loss: 222.788\t-----------------------------------------------------------------------------------------\n",
      "| end of epoch   3 | time: 21.57s | ndcg@100 0.197 | recall@20 0.179 | recall@50 0.247\n",
      "-----------------------------------------------------------------------------------------\n",
      "[  4] loss: 215.986\t-----------------------------------------------------------------------------------------\n",
      "| end of epoch   4 | time: 21.65s | ndcg@100 0.202 | recall@20 0.187 | recall@50 0.256\n",
      "-----------------------------------------------------------------------------------------\n",
      "[  5] loss: 213.757\t-----------------------------------------------------------------------------------------\n",
      "| end of epoch   5 | time: 21.57s | ndcg@100 0.206 | recall@20 0.191 | recall@50 0.263\n",
      "-----------------------------------------------------------------------------------------\n",
      "[  6] loss: 211.687\t-----------------------------------------------------------------------------------------\n",
      "| end of epoch   6 | time: 21.63s | ndcg@100 0.206 | recall@20 0.193 | recall@50 0.261\n",
      "-----------------------------------------------------------------------------------------\n",
      "[  7] loss: 210.748\t-----------------------------------------------------------------------------------------\n",
      "| end of epoch   7 | time: 21.64s | ndcg@100 0.209 | recall@20 0.194 | recall@50 0.264\n",
      "-----------------------------------------------------------------------------------------\n",
      "[  8] loss: 209.796\t-----------------------------------------------------------------------------------------\n",
      "| end of epoch   8 | time: 21.60s | ndcg@100 0.209 | recall@20 0.194 | recall@50 0.265\n",
      "-----------------------------------------------------------------------------------------\n",
      "[  9] loss: 209.688\t-----------------------------------------------------------------------------------------\n",
      "| end of epoch   9 | time: 21.59s | ndcg@100 0.210 | recall@20 0.194 | recall@50 0.264\n",
      "-----------------------------------------------------------------------------------------\n",
      "[ 10] loss: 209.296\t-----------------------------------------------------------------------------------------\n",
      "| end of epoch  10 | time: 21.63s | ndcg@100 0.211 | recall@20 0.194 | recall@50 0.265\n",
      "-----------------------------------------------------------------------------------------\n",
      "[ 11] loss: 209.465\t-----------------------------------------------------------------------------------------\n",
      "| end of epoch  11 | time: 21.63s | ndcg@100 0.211 | recall@20 0.196 | recall@50 0.266\n",
      "-----------------------------------------------------------------------------------------\n",
      "[ 12] loss: 209.004\t-----------------------------------------------------------------------------------------\n",
      "| end of epoch  12 | time: 21.62s | ndcg@100 0.210 | recall@20 0.196 | recall@50 0.269\n",
      "-----------------------------------------------------------------------------------------\n",
      "[ 13] loss: 208.994\t-----------------------------------------------------------------------------------------\n",
      "| end of epoch  13 | time: 21.75s | ndcg@100 0.211 | recall@20 0.196 | recall@50 0.265\n",
      "-----------------------------------------------------------------------------------------\n",
      "[ 14] loss: 209.184\t-----------------------------------------------------------------------------------------\n",
      "| end of epoch  14 | time: 22.22s | ndcg@100 0.211 | recall@20 0.197 | recall@50 0.267\n",
      "-----------------------------------------------------------------------------------------\n",
      "[ 15] loss: 209.094\t-----------------------------------------------------------------------------------------\n",
      "| end of epoch  15 | time: 21.65s | ndcg@100 0.211 | recall@20 0.195 | recall@50 0.267\n",
      "-----------------------------------------------------------------------------------------\n",
      "[ 16] loss: 209.263\t-----------------------------------------------------------------------------------------\n",
      "| end of epoch  16 | time: 21.54s | ndcg@100 0.211 | recall@20 0.198 | recall@50 0.266\n",
      "-----------------------------------------------------------------------------------------\n",
      "[ 17] loss: 209.325\t-----------------------------------------------------------------------------------------\n",
      "| end of epoch  17 | time: 21.62s | ndcg@100 0.210 | recall@20 0.195 | recall@50 0.266\n",
      "-----------------------------------------------------------------------------------------\n",
      "[ 18] loss: 209.773\t-----------------------------------------------------------------------------------------\n",
      "| end of epoch  18 | time: 21.55s | ndcg@100 0.211 | recall@20 0.198 | recall@50 0.267\n",
      "-----------------------------------------------------------------------------------------\n",
      "[ 19] loss: 209.625\t-----------------------------------------------------------------------------------------\n",
      "| end of epoch  19 | time: 21.54s | ndcg@100 0.212 | recall@20 0.197 | recall@50 0.270\n",
      "-----------------------------------------------------------------------------------------\n",
      "[ 20] loss: 209.826\t-----------------------------------------------------------------------------------------\n",
      "| end of epoch  20 | time: 21.60s | ndcg@100 0.212 | recall@20 0.194 | recall@50 0.266\n",
      "-----------------------------------------------------------------------------------------\n",
      "[ 21] loss: 210.318\t-----------------------------------------------------------------------------------------\n",
      "| end of epoch  21 | time: 21.61s | ndcg@100 0.212 | recall@20 0.197 | recall@50 0.268\n",
      "-----------------------------------------------------------------------------------------\n",
      "[ 22] loss: 210.624\t-----------------------------------------------------------------------------------------\n",
      "| end of epoch  22 | time: 21.64s | ndcg@100 0.211 | recall@20 0.194 | recall@50 0.265\n",
      "-----------------------------------------------------------------------------------------\n",
      "[ 23] loss: 210.746\t-----------------------------------------------------------------------------------------\n",
      "| end of epoch  23 | time: 21.73s | ndcg@100 0.211 | recall@20 0.193 | recall@50 0.267\n",
      "-----------------------------------------------------------------------------------------\n",
      "[ 24] loss: 211.292\t-----------------------------------------------------------------------------------------\n",
      "| end of epoch  24 | time: 21.61s | ndcg@100 0.212 | recall@20 0.195 | recall@50 0.266\n",
      "-----------------------------------------------------------------------------------------\n",
      "[ 25] loss: 211.600\t-----------------------------------------------------------------------------------------\n",
      "| end of epoch  25 | time: 21.56s | ndcg@100 0.212 | recall@20 0.196 | recall@50 0.269\n",
      "-----------------------------------------------------------------------------------------\n",
      "[ 26] loss: 211.709\t-----------------------------------------------------------------------------------------\n",
      "| end of epoch  26 | time: 21.57s | ndcg@100 0.211 | recall@20 0.195 | recall@50 0.269\n",
      "-----------------------------------------------------------------------------------------\n",
      "[ 27] loss: 211.960\t-----------------------------------------------------------------------------------------\n",
      "| end of epoch  27 | time: 21.56s | ndcg@100 0.211 | recall@20 0.197 | recall@50 0.268\n",
      "-----------------------------------------------------------------------------------------\n",
      "[ 28] loss: 212.304\t-----------------------------------------------------------------------------------------\n",
      "| end of epoch  28 | time: 21.61s | ndcg@100 0.211 | recall@20 0.194 | recall@50 0.266\n",
      "-----------------------------------------------------------------------------------------\n",
      "[ 29] loss: 212.578\t-----------------------------------------------------------------------------------------\n",
      "| end of epoch  29 | time: 21.36s | ndcg@100 0.212 | recall@20 0.197 | recall@50 0.267\n",
      "-----------------------------------------------------------------------------------------\n",
      "[ 30] loss: 212.685\t-----------------------------------------------------------------------------------------\n",
      "| end of epoch  30 | time: 21.32s | ndcg@100 0.212 | recall@20 0.196 | recall@50 0.268\n",
      "-----------------------------------------------------------------------------------------\n",
      "[ 31] loss: 213.092\t-----------------------------------------------------------------------------------------\n",
      "| end of epoch  31 | time: 21.40s | ndcg@100 0.212 | recall@20 0.196 | recall@50 0.265\n",
      "-----------------------------------------------------------------------------------------\n",
      "[ 32] loss: 213.416\t-----------------------------------------------------------------------------------------\n",
      "| end of epoch  32 | time: 21.30s | ndcg@100 0.212 | recall@20 0.196 | recall@50 0.264\n",
      "-----------------------------------------------------------------------------------------\n",
      "[ 33] loss: 213.573\t-----------------------------------------------------------------------------------------\n",
      "| end of epoch  33 | time: 21.28s | ndcg@100 0.210 | recall@20 0.194 | recall@50 0.267\n",
      "-----------------------------------------------------------------------------------------\n",
      "[ 34] loss: 213.914\t-----------------------------------------------------------------------------------------\n",
      "| end of epoch  34 | time: 21.37s | ndcg@100 0.210 | recall@20 0.196 | recall@50 0.267\n",
      "-----------------------------------------------------------------------------------------\n",
      "[ 35] loss: 214.714\t-----------------------------------------------------------------------------------------\n",
      "| end of epoch  35 | time: 21.36s | ndcg@100 0.210 | recall@20 0.197 | recall@50 0.266\n",
      "-----------------------------------------------------------------------------------------\n",
      "[ 36] loss: 214.619\t-----------------------------------------------------------------------------------------\n",
      "| end of epoch  36 | time: 21.49s | ndcg@100 0.212 | recall@20 0.197 | recall@50 0.264\n",
      "-----------------------------------------------------------------------------------------\n",
      "[ 37] loss: 214.844\t-----------------------------------------------------------------------------------------\n",
      "| end of epoch  37 | time: 21.33s | ndcg@100 0.211 | recall@20 0.196 | recall@50 0.265\n",
      "-----------------------------------------------------------------------------------------\n",
      "[ 38] loss: 215.248\t-----------------------------------------------------------------------------------------\n",
      "| end of epoch  38 | time: 21.29s | ndcg@100 0.210 | recall@20 0.195 | recall@50 0.267\n",
      "-----------------------------------------------------------------------------------------\n",
      "[ 39] loss: 215.056\t-----------------------------------------------------------------------------------------\n",
      "| end of epoch  39 | time: 21.37s | ndcg@100 0.211 | recall@20 0.196 | recall@50 0.266\n",
      "-----------------------------------------------------------------------------------------\n",
      "[ 40] loss: 215.524\t-----------------------------------------------------------------------------------------\n",
      "| end of epoch  40 | time: 21.36s | ndcg@100 0.210 | recall@20 0.195 | recall@50 0.266\n",
      "-----------------------------------------------------------------------------------------\n",
      "[ 41] loss: 215.479\t-----------------------------------------------------------------------------------------\n",
      "| end of epoch  41 | time: 21.35s | ndcg@100 0.211 | recall@20 0.195 | recall@50 0.269\n",
      "-----------------------------------------------------------------------------------------\n",
      "[ 42] loss: 215.949\t-----------------------------------------------------------------------------------------\n",
      "| end of epoch  42 | time: 21.34s | ndcg@100 0.211 | recall@20 0.195 | recall@50 0.268\n",
      "-----------------------------------------------------------------------------------------\n",
      "[ 43] loss: 216.136\t-----------------------------------------------------------------------------------------\n",
      "| end of epoch  43 | time: 21.35s | ndcg@100 0.211 | recall@20 0.195 | recall@50 0.269\n",
      "-----------------------------------------------------------------------------------------\n",
      "[ 44] loss: 216.303\t-----------------------------------------------------------------------------------------\n",
      "| end of epoch  44 | time: 21.35s | ndcg@100 0.209 | recall@20 0.195 | recall@50 0.266\n",
      "-----------------------------------------------------------------------------------------\n",
      "[ 45] loss: 216.567\t-----------------------------------------------------------------------------------------\n",
      "| end of epoch  45 | time: 21.35s | ndcg@100 0.210 | recall@20 0.195 | recall@50 0.267\n",
      "-----------------------------------------------------------------------------------------\n",
      "[ 46] loss: 216.752\t-----------------------------------------------------------------------------------------\n",
      "| end of epoch  46 | time: 21.32s | ndcg@100 0.209 | recall@20 0.194 | recall@50 0.266\n",
      "-----------------------------------------------------------------------------------------\n",
      "[ 47] loss: 217.033\t-----------------------------------------------------------------------------------------\n",
      "| end of epoch  47 | time: 21.33s | ndcg@100 0.209 | recall@20 0.193 | recall@50 0.266\n",
      "-----------------------------------------------------------------------------------------\n",
      "[ 48] loss: 217.093\t-----------------------------------------------------------------------------------------\n",
      "| end of epoch  48 | time: 21.29s | ndcg@100 0.211 | recall@20 0.194 | recall@50 0.267\n",
      "-----------------------------------------------------------------------------------------\n",
      "[ 49] loss: 217.609\t-----------------------------------------------------------------------------------------\n",
      "| end of epoch  49 | time: 21.37s | ndcg@100 0.211 | recall@20 0.194 | recall@50 0.266\n",
      "-----------------------------------------------------------------------------------------\n"
     ]
    }
   ],
   "source": [
    "try:\n",
    "    for epoch in range(epochs):\n",
    "        epoch_start_time = time.time()\n",
    "\n",
    "        net.train()\n",
    "        running_loss = 0.0\n",
    "        t = time.time()\n",
    "        \n",
    "        train_idx = np.random.permutation(train_idx)\n",
    "        \n",
    "        for start_idx in range(0, n_train, batch_size):\n",
    "            end_idx = min(start_idx + batch_size, n_train)\n",
    "            X = train_data[train_idx[start_idx: end_idx]]\n",
    "            X = torch.Tensor(X.toarray()).to(device)  # users-items matrix\n",
    "            A = None\n",
    "            optimizer.zero_grad()\n",
    "            X_logits, X_mu, X_logvar, A_logits, A_mu, A_logvar = net(X, A)\n",
    "            anneal = min(beta, update / anneals)\n",
    "            loss = criterion(X, X_logits, X_mu, X_logvar, A, A_logits, A_mu, A_logvar, anneal)\n",
    "            loss.backward()\n",
    "            optimizer.step()\n",
    "            running_loss += loss.item()\n",
    "            update += 1\n",
    "        \n",
    "        print('[%3d] loss: %.3f' % (epoch, running_loss / n_batches), end='\\t', flush=True)\n",
    "        # Evaluation \n",
    "        metrics = evaluate(net, valid_idx)\n",
    "        ndcg100_values.append(metrics['ndcg'][100]) \n",
    "        print('-' * 89)\n",
    "        print('| end of epoch {:3d} | time: {:4.2f}s | '\n",
    "            'ndcg@100 {:5.3f} | recall@20 {:5.3f} | recall@50 {:5.3f}'.format(\n",
    "                epoch, time.time() - epoch_start_time, \n",
    "                metrics['ndcg'][100], metrics['recall'][20], metrics['recall'][50]))\n",
    "        print('-' * 89)\n",
    "\n",
    "        # Save the model if the n100 is the best we've seen so far.\n",
    "        if metrics['ndcg'][100] > best_n100:\n",
    "            with open(save, 'wb') as f:\n",
    "                torch.save(net, f)\n",
    "            best_n100 = metrics['ndcg'][100]    \n",
    "\n",
    "\n",
    "except KeyboardInterrupt:\n",
    "    print('-' * 89)\n",
    "    print('Exiting from training early')\n",
    "\n",
    "# Load the best saved model.\n",
    "with open(save, 'rb') as f:\n",
    "    model = torch.load(f)"
   ]
  },
  {
   "cell_type": "code",
   "execution_count": 22,
   "metadata": {},
   "outputs": [
    {
     "data": {
      "image/png": "[encoded data removed]",
      "text/plain": [
       "<Figure size 1000x600 with 1 Axes>"
      ]
     },
     "metadata": {},
     "output_type": "display_data"
    }
   ],
   "source": [
    "plt.figure(figsize=(10, 6))\n",
    "plt.plot(ndcg100_values, label='NDCG@100')\n",
    "plt.xlabel('Epoch')\n",
    "plt.ylabel('NDCG@100')\n",
    "plt.title('NDCG@100 on Validation Set Over Epochs')\n",
    "plt.legend()\n",
    "plt.grid(True)\n",
    "plt.show()"
   ]
  },
  {
   "cell_type": "markdown",
   "metadata": {},
   "source": [
    "Evaluate"
   ]
  },
  {
   "cell_type": "code",
   "execution_count": 23,
   "metadata": {},
   "outputs": [
    {
     "name": "stdout",
     "output_type": "stream",
     "text": [
      "=========================================================================================\n",
      "| End of training |\n",
      "| ndcg@5 0.139 | recall@5 0.129 | precision@5 0.106\n",
      "| ndcg@10 0.148 | recall@10 0.152 | precision@10 0.074\n",
      "| ndcg@20 0.165 | recall@20 0.196 | precision@20 0.051\n",
      "| ndcg@50 0.188 | recall@50 0.265 | precision@50 0.029\n",
      "| ndcg@100 0.205 | recall@100 0.324 | precision@100 0.018\n",
      "=========================================================================================\n"
     ]
    }
   ],
   "source": [
    "# Run on test data.\n",
    "metrics = evaluate(net, test_idx)\n",
    "\n",
    "print('=' * 89)\n",
    "print('| End of training |')\n",
    "for k in [5, 10, 20, 50, 100]:\n",
    "    print('| ndcg@{} {:5.3f} | recall@{} {:5.3f} | precision@{} {:5.3f}'.format(\n",
    "        k, metrics['ndcg'][k], k, metrics['recall'][k], k, metrics['precision'][k]))\n",
    "print('=' * 89)"
   ]
  }
 ],
 "metadata": {
  "kernelspec": {
   "display_name": "tf1.15",
   "language": "python",
   "name": "python3"
  },
  "language_info": {
   "codemirror_mode": {
    "name": "ipython",
    "version": 3
   },
   "file_extension": ".py",
   "mimetype": "text/x-python",
   "name": "python",
   "nbconvert_exporter": "python",
   "pygments_lexer": "ipython3",
   "version": "3.9.18"
  }
 },
 "nbformat": 4,
 "nbformat_minor": 2
}
